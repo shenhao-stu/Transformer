{
 "cells": [
  {
   "cell_type": "markdown",
   "id": "f2af0b51",
   "metadata": {},
   "source": [
    "# CV in Transformer\n",
    "- **Learner** : shenhao\n",
    "- **Date** : 2021.10.14"
   ]
  },
  {
   "cell_type": "code",
   "execution_count": 1,
   "id": "9c9fa6de-50cd-4ffb-9bc9-9b4e7878bbce",
   "metadata": {},
   "outputs": [],
   "source": [
    "import math, copy, time\n",
    "import numpy as np\n",
    "import torch\n",
    "from torch import nn\n",
    "import torch.nn.functional as F"
   ]
  },
  {
   "cell_type": "code",
   "execution_count": 2,
   "id": "94bcdfff",
   "metadata": {},
   "outputs": [
    {
     "name": "stdout",
     "output_type": "stream",
     "text": [
      "Using cpu device\n"
     ]
    }
   ],
   "source": [
    "device = 'cuda' if torch.cuda.is_available() else 'cpu'\n",
    "print('Using {} device'.format(device))"
   ]
  },
  {
   "cell_type": "markdown",
   "id": "cc28cadf",
   "metadata": {},
   "source": [
    "## Embeddings\n",
    "与其他seq2seq模型类似，我们使用学习到的embedding将输入token和输出token转换为$d_{\\text{model}}$维的向量。我们还使用普通的线性变换和softmax函数将解码器输出转换为预测的下一个token的概率 在我们的模型中，两个嵌入层之间和pre-softmax线性变换共享相同的权重矩阵，类似于[(cite)](https://arxiv.org/abs/1608.05859)。在embedding层中，我们将这些权重乘以$\\sqrt{d_{\\text{model}}}$。  "
   ]
  },
  {
   "cell_type": "code",
   "execution_count": 3,
   "id": "1a27198e",
   "metadata": {},
   "outputs": [],
   "source": [
    "class Embeddings(nn.Module):\n",
    "    def __init__(self, d_model, vocab):\n",
    "        \"\"\"\n",
    "        类的初始化函数\n",
    "        d_model：指词嵌入的维度\n",
    "        vocab:指词表的大小\n",
    "        \"\"\"\n",
    "        super(Embeddings, self).__init__()\n",
    "        # 之后就是调用nn中的预定义层Embedding，获得一个词嵌入对象self.lut\n",
    "        self.lut = nn.Embedding(vocab, d_model)\n",
    "        # 最后就是将d_model传入类中\n",
    "        self.d_model = d_model\n",
    "\n",
    "    def forward(self, x):\n",
    "        \"\"\"\n",
    "        Embedding层的前向传播逻辑\n",
    "        参数x：这里代表输入给模型的单词文本通过词表映射后的one-hot向量\n",
    "        将x传给self.lut并与根号下self.d_model相乘作为结果返回\n",
    "        \"\"\"\n",
    "        embedds = self.lut(x)\n",
    "        return embedds * math.sqrt(self.d_model)"
   ]
  },
  {
   "cell_type": "code",
   "execution_count": 4,
   "id": "15c52f3e",
   "metadata": {},
   "outputs": [
    {
     "name": "stdout",
     "output_type": "stream",
     "text": [
      "Embeddings(\n",
      "  (lut): Embedding(10, 16)\n",
      ")\n"
     ]
    }
   ],
   "source": [
    "# embedding_size=16, input_vocab_size=10\n",
    "embedding_fc = Embeddings(16, 10).to(device)\n",
    "print(embedding_fc)"
   ]
  },
  {
   "cell_type": "code",
   "execution_count": 5,
   "id": "18996f82",
   "metadata": {},
   "outputs": [
    {
     "data": {
      "text/plain": [
       "(tensor([[4, 2, 2, 7, 4]]), torch.Size([1, 5]))"
      ]
     },
     "execution_count": 5,
     "metadata": {},
     "output_type": "execute_result"
    }
   ],
   "source": [
    "# sentence or batch_size=1,words=5\n",
    "input_X = torch.randint(0, 10, (1, 5))\n",
    "input_X, input_X.shape"
   ]
  },
  {
   "cell_type": "code",
   "execution_count": 6,
   "id": "ebc1c0f4",
   "metadata": {},
   "outputs": [
    {
     "data": {
      "text/plain": [
       "torch.Size([1, 5, 16])"
      ]
     },
     "execution_count": 6,
     "metadata": {},
     "output_type": "execute_result"
    }
   ],
   "source": [
    "embeds_x = embedding_fc(input_X)\n",
    "embeds_x.shape"
   ]
  },
  {
   "cell_type": "markdown",
   "id": "2ccb7b04",
   "metadata": {},
   "source": [
    "## Positional Encodding\n",
    "Positional Encodding位置编码的作用是为模型提供当前时间步的前后出现顺序的信息.因为Transformer不像RNN那样的循环结构有前后不同时间步输入间天然的先后顺序,所有的时间步是同时输入,并行推理的,因此在时间步的特征中融合进位置编码的信息是合理的.\n",
    "\n",
    "位置编码可以有很多选择,可以是固定的,也可以设置成可学习的参数.\n",
    "\n",
    "这里,我们使用固定的位置编码.具体地,使用不同频率的sin和cos函数来进行位置编码,如下所示:\n",
    "$$PE_{pos,2i}=sin(pos/10000^{2i/d_{model}})$$  \n",
    "$$PE_{pos,2i+1}=cos(pos/10000^{2i/d_{model}})$$  \n",
    "\n",
    "其中pos代表时间步的下标索引,向量$PE_{pos}$也就是第pos个时间步的位置编码,编码长度同Embedding层."
   ]
  },
  {
   "cell_type": "code",
   "execution_count": 7,
   "id": "1b346024",
   "metadata": {},
   "outputs": [],
   "source": [
    "class PositionalEncoding(nn.Module):\n",
    "    def __init__(self, d_model, dropout, max_len=5000):\n",
    "        \"\"\"\n",
    "        位置编码器类的初始化函数\n",
    "\n",
    "        共有三个参数，分别是\n",
    "        d_model：词嵌入维度\n",
    "        dropout: dropout触发比率\n",
    "        max_len：每个句子的最大长度\n",
    "        \"\"\"\n",
    "        super(PositionalEncoding, self).__init__()\n",
    "        self.dropout = nn.Dropout(p=dropout)\n",
    "\n",
    "        # Compute the positional encodings\n",
    "        # 注意下面代码的计算方式与公式中给出的是不同的，但是是等价的，你可以尝试简单推导证明一下。\n",
    "        # 这样计算是为了避免中间的数值计算结果超出float的范围，\n",
    "        pe = torch.zeros(max_len, d_model)\n",
    "        position = torch.arange(0, max_len).unsqueeze(1)\n",
    "        div_term = torch.exp(torch.arange(0, d_model, 2) *\n",
    "                             -(math.log(10000.0) / d_model))\n",
    "        pe[:, 0::2] = torch.sin(position * div_term)\n",
    "        pe[:, 1::2] = torch.cos(position * div_term)\n",
    "        pe = pe.unsqueeze(0)\n",
    "        self.register_buffer('pe', pe)\n",
    "\n",
    "    def forward(self, x):\n",
    "        x = x + self.pe[:, :x.size(1)].requires_grad_(False)\n",
    "        return self.dropout(x)"
   ]
  },
  {
   "cell_type": "code",
   "execution_count": 8,
   "id": "f04a6113",
   "metadata": {},
   "outputs": [],
   "source": [
    "# embedding_size=15,dropout=0.1\n",
    "position_encoding_layer = PositionalEncoding(16, 0.1)"
   ]
  },
  {
   "cell_type": "code",
   "execution_count": 9,
   "id": "47988e53",
   "metadata": {},
   "outputs": [
    {
     "data": {
      "text/plain": [
       "torch.Size([1, 5, 16])"
      ]
     },
     "execution_count": 9,
     "metadata": {},
     "output_type": "execute_result"
    }
   ],
   "source": [
    "position_enc_x = position_encoding_layer(embeds_x)\n",
    "position_enc_x.shape"
   ]
  },
  {
   "cell_type": "markdown",
   "id": "08c2e533",
   "metadata": {},
   "source": [
    "> 可以用代码，简单看下效果"
   ]
  },
  {
   "cell_type": "code",
   "execution_count": 10,
   "id": "b8945fd3",
   "metadata": {},
   "outputs": [
    {
     "data": {
      "text/plain": [
       "Text(69.0, 0.5, 'sequence length')"
      ]
     },
     "execution_count": 10,
     "metadata": {},
     "output_type": "execute_result"
    },
    {
     "data": {
      "image/png": "[encoded data removed]",
      "text/plain": [
       "<Figure size 720x720 with 2 Axes>"
      ]
     },
     "metadata": {
      "needs_background": "light"
     },
     "output_type": "display_data"
    }
   ],
   "source": [
    "# 导入依赖库\n",
    "import numpy as np\n",
    "import matplotlib.pyplot as plt\n",
    "import seaborn as sns\n",
    "import math\n",
    "\n",
    "\n",
    "def get_positional_encoding(max_seq_len, embed_dim):\n",
    "    # 初始化一个positional encoding\n",
    "    # embed_dim: 字嵌入的维度\n",
    "    # max_seq_len: 最大的序列长度\n",
    "    positional_encoding = np.array([\n",
    "        [pos / np.power(10000, 2 * i / embed_dim) for i in range(embed_dim)]\n",
    "        if pos != 0 else np.zeros(embed_dim) for pos in range(max_seq_len)])\n",
    "    positional_encoding[1:, 0::2] = np.sin(\n",
    "        positional_encoding[1:, 0::2])  # dim 2i 偶数\n",
    "    positional_encoding[1:, 1::2] = np.cos(\n",
    "        positional_encoding[1:, 1::2])  # dim 2i+1 奇数\n",
    "    # 归一化, 用位置嵌入的每一行除以它的模长\n",
    "    # denominator = np.sqrt(np.sum(position_enc**2, axis=1, keepdims=True))\n",
    "    # position_enc = position_enc / (denominator + 1e-8)\n",
    "    return positional_encoding\n",
    "\n",
    "positional_encoding = get_positional_encoding(max_seq_len=100, embed_dim=16)\n",
    "plt.figure(figsize=(10, 10))\n",
    "sns.heatmap(positional_encoding)\n",
    "plt.title(\"Sinusoidal Function\")\n",
    "plt.xlabel(\"hidden dimension\")\n",
    "plt.ylabel(\"sequence length\")"
   ]
  },
  {
   "cell_type": "markdown",
   "id": "c6e4d1a1",
   "metadata": {},
   "source": [
    "## 掩码及其作用\n",
    "掩码：掩代表遮掩，码就是我们张量中的数值，它的尺寸不定，里面一般只有0和1；代表位置被遮掩或者不被遮掩。\n",
    "\n",
    "掩码的作用：在transformer中，掩码主要的作用有两个，一个是屏蔽掉无效的padding区域，一个是屏蔽掉来自“未来”的信息。Encoder中的掩码主要是起到第一个作用，Decoder中的掩码则同时发挥着两种作用。\n",
    "\n",
    "屏蔽掉无效的padding区域：我们训练需要组batch进行，就以机器翻译任务为例，一个batch中不同样本的输入长度很可能是不一样的，此时我们要设置一个最大句子长度，然后对空白区域进行padding填充，而填充的区域无论在Encoder还是Decoder的计算中都是没有意义的，因此需要用mask进行标识，屏蔽掉对应区域的响应。\n",
    "\n",
    "屏蔽掉来自未来的信息：我们已经学习了attention的计算流程，它是会综合所有时间步的计算的，那么在解码的时候，就有可能获取到未来的信息，这是不行的。因此，这种情况也需要我们使用mask进行屏蔽。现在还没介绍到Decoder，如果没完全理解，可以之后再回过头来思考下。\n",
    "\n",
    "mask的构造代码如下："
   ]
  },
  {
   "cell_type": "code",
   "execution_count": 11,
   "id": "4fdbb9d0",
   "metadata": {},
   "outputs": [],
   "source": [
    "def subsequent_mask(size):\n",
    "    # 生成向后遮掩的掩码张量，参数size是掩码张量最后两个维度的大小，它最后两维形成一个方阵\n",
    "    \"Mask out subsequent positions.\"\n",
    "    attn_shape = (1, size, size)\n",
    "\n",
    "    # 然后使用np.ones方法向这个形状中添加1元素，形成上三角阵\n",
    "    subsequent_mask = np.triu(np.ones(attn_shape), k=1).astype('uint8')\n",
    "\n",
    "    # 最后将numpy类型转化为torch中的tensor，内部做一个1- 的操作。这个其实是做了一个三角阵的反转，subsequent_mask中的每个元素都会被1减。\n",
    "    # 如果是0，subsequent_mask中的该位置由0变成1\n",
    "    # 如果是1，subsequect_mask中的该位置由1变成0\n",
    "    return torch.from_numpy(subsequent_mask) == 0"
   ]
  },
  {
   "cell_type": "code",
   "execution_count": 12,
   "id": "24f0d191",
   "metadata": {
    "scrolled": true
   },
   "outputs": [
    {
     "data": {
      "text/plain": [
       "array([[[0, 1, 1, 1, 1, 1, 1, 1, 1, 1],\n",
       "        [0, 0, 1, 1, 1, 1, 1, 1, 1, 1],\n",
       "        [0, 0, 0, 1, 1, 1, 1, 1, 1, 1],\n",
       "        [0, 0, 0, 0, 1, 1, 1, 1, 1, 1],\n",
       "        [0, 0, 0, 0, 0, 1, 1, 1, 1, 1],\n",
       "        [0, 0, 0, 0, 0, 0, 1, 1, 1, 1],\n",
       "        [0, 0, 0, 0, 0, 0, 0, 1, 1, 1],\n",
       "        [0, 0, 0, 0, 0, 0, 0, 0, 1, 1],\n",
       "        [0, 0, 0, 0, 0, 0, 0, 0, 0, 1],\n",
       "        [0, 0, 0, 0, 0, 0, 0, 0, 0, 0]]], dtype=uint8)"
      ]
     },
     "execution_count": 12,
     "metadata": {},
     "output_type": "execute_result"
    }
   ],
   "source": [
    "attn_shape = (1, 10, 10)\n",
    "# np.triu(m, k=0)\n",
    "# k是指从主对角线开始保留\n",
    "# k=0\n",
    "# [[1. 1. 1. 1. 1.]\n",
    "#  [0. 1. 1. 1. 1.]\n",
    "#  [0. 0. 1. 1. 1.]\n",
    "#  [0. 0. 0. 1. 1.]\n",
    "#  [0. 0. 0. 0. 1.]]\n",
    "# k=1\n",
    "# [[0. 1. 1. 1. 1.]\n",
    "#  [0. 0. 1. 1. 1.]\n",
    "#  [0. 0. 0. 1. 1.]\n",
    "#  [0. 0. 0. 0. 1.]\n",
    "#  [0. 0. 0. 0. 0.]]\n",
    "# k=2\n",
    "# [[0. 0. 1. 1. 1.]\n",
    "#  [0. 0. 0. 1. 1.]\n",
    "#  [0. 0. 0. 0. 1.]\n",
    "#  [0. 0. 0. 0. 0.]\n",
    "#  [0. 0. 0. 0. 0.]]\n",
    "subseq_mask = np.triu(np.ones(attn_shape), k=1).astype('uint8')\n",
    "subseq_mask"
   ]
  },
  {
   "cell_type": "code",
   "execution_count": 13,
   "id": "94cf9f86",
   "metadata": {},
   "outputs": [
    {
     "data": {
      "text/plain": [
       "tensor([[[ True, False, False, False, False, False, False, False, False, False],\n",
       "         [ True,  True, False, False, False, False, False, False, False, False],\n",
       "         [ True,  True,  True, False, False, False, False, False, False, False],\n",
       "         [ True,  True,  True,  True, False, False, False, False, False, False],\n",
       "         [ True,  True,  True,  True,  True, False, False, False, False, False],\n",
       "         [ True,  True,  True,  True,  True,  True, False, False, False, False],\n",
       "         [ True,  True,  True,  True,  True,  True,  True, False, False, False],\n",
       "         [ True,  True,  True,  True,  True,  True,  True,  True, False, False],\n",
       "         [ True,  True,  True,  True,  True,  True,  True,  True,  True, False],\n",
       "         [ True,  True,  True,  True,  True,  True,  True,  True,  True,  True]]])"
      ]
     },
     "execution_count": 13,
     "metadata": {},
     "output_type": "execute_result"
    }
   ],
   "source": [
    "torch.from_numpy(subseq_mask) == 0"
   ]
  },
  {
   "cell_type": "code",
   "execution_count": 14,
   "id": "28f4ee22",
   "metadata": {},
   "outputs": [
    {
     "data": {
      "text/plain": [
       "<matplotlib.image.AxesImage at 0x272213540a0>"
      ]
     },
     "execution_count": 14,
     "metadata": {},
     "output_type": "execute_result"
    },
    {
     "data": {
      "image/png": "[encoded data removed]",
      "text/plain": [
       "<Figure size 360x360 with 1 Axes>"
      ]
     },
     "metadata": {
      "needs_background": "light"
     },
     "output_type": "display_data"
    }
   ],
   "source": [
    "import matplotlib.pyplot as plt \n",
    "plt.figure(figsize=(5,5))\n",
    "plt.imshow(subsequent_mask(20)[0])"
   ]
  },
  {
   "cell_type": "markdown",
   "id": "0aa7394f",
   "metadata": {},
   "source": [
    "## 规范化层\n",
    "规范化层的作用：它是所有深层网络模型都需要的标准网络层，因为随着网络层数的增加，通过多层的计算后输出可能开始出现过大或过小的情况，这样可能会导致学习过程出现异常，模型可能收敛非常慢。因此都会在一定层后接规范化层进行数值的规范化，使其特征数值在合理范围内。\n",
    "\n",
    "Transformer中使用的normalization手段是layer norm，实现代码很简单，如下："
   ]
  },
  {
   "cell_type": "code",
   "execution_count": 15,
   "id": "32f916b7",
   "metadata": {},
   "outputs": [],
   "source": [
    "class LayerNorm(nn.Module):\n",
    "    \"Construct a layernorm module (See citation for details).\"\n",
    "\n",
    "    def __init__(self, feature_size, eps=1e-6):\n",
    "        # 初始化函数有两个参数，一个是features,表示词嵌入的维度,另一个是eps它是一个足够小的数，在规范化公式的分母中出现,防止分母为0，默认是1e-6。\n",
    "        super(LayerNorm, self).__init__()\n",
    "        # 根据features的形状初始化两个参数张量a2，和b2，第一初始化为1张量，也就是里面的元素都是1，第二个初始化为0张量，也就是里面的元素都是0，这两个张量就是规范化层的参数。因为直接对上一层得到的结果做规范化公式计算，将改变结果的正常表征，因此就需要有参数作为调节因子，使其即能满足规范化要求，又能不改变针对目标的表征，最后使用nn.parameter封装，代表他们是模型的参数\n",
    "        self.a_2 = nn.Parameter(torch.ones(feature_size))\n",
    "        self.b_2 = nn.Parameter(torch.zeros(feature_size))\n",
    "        # 把eps传到类中\n",
    "        self.eps = eps\n",
    "\n",
    "    def forward(self, x):\n",
    "        # 输入参数x代表来自上一层的输出，在函数中，首先对输入变量x求其最后一个维度的均值，并保持输出维度与输入维度一致，接着再求最后一个维度的标准差，然后就是根据规范化公式，用x减去均值除以标准差获得规范化的结果。\n",
    "        # 最后对结果乘以我们的缩放参数，即a2,*号代表同型点乘，即对应位置进行乘法操作，加上位移参b2，返回即可\n",
    "        mean = x.mean(-1, keepdim=True)\n",
    "        std = x.std(-1, keepdim=True)\n",
    "        return self.a_2 * (x - mean) / (std + self.eps) + self.b_2"
   ]
  },
  {
   "cell_type": "code",
   "execution_count": 16,
   "id": "bc773004",
   "metadata": {},
   "outputs": [
    {
     "data": {
      "text/plain": [
       "(tensor([[[  0.0000,   0.3469,  -0.7491,   0.6070,  -1.5492,  -2.8974,  -3.5907,\n",
       "             0.2504,  -2.1471,   5.5847,  11.6371,  -1.9434,   0.0000,  -4.6232,\n",
       "             0.2133,  -0.0000],\n",
       "          [  0.0000,  -5.4573,  -3.7686,   1.9659,   5.1254,  -0.9123,  -1.1379,\n",
       "            -1.4928,   4.8002,   8.7096,   1.1290,   3.6947,  -2.1815,   0.8283,\n",
       "             6.0025,   4.5009],\n",
       "          [  3.0152,  -6.5201,  -3.4573,   1.8061,   0.0000,  -0.9289,  -1.1028,\n",
       "            -1.4945,   0.0000,   8.7094,   1.1325,   3.6947,  -2.1804,   0.0000,\n",
       "             6.0029,   4.5009],\n",
       "          [ -4.5933,  -5.5700,  -0.1780,  -2.9321, -10.2470,   5.1914,   0.8832,\n",
       "            -1.1694,  -5.3230,   1.8775,  -0.0000,  -6.8561,  -2.1840,   2.4458,\n",
       "            -1.7266,   3.9137],\n",
       "          [  6.2895,  -1.4905,   0.3104,  -0.1695,  -1.1165,  -2.9851,  -3.4505,\n",
       "             0.2415,  -2.1027,   5.5838,  11.6511,  -1.9435,   1.1290,  -4.6233,\n",
       "             0.2147,  -0.2102]]], grad_fn=<MulBackward0>),\n",
       " tensor([[[-0.0185,  0.0718, -0.2137,  0.1396, -0.4220, -0.7732, -0.9537,\n",
       "            0.0467, -0.5777,  1.4360,  3.0123, -0.5247, -0.0185, -1.2226,\n",
       "            0.0370, -0.0185],\n",
       "          [-0.3524, -1.7637, -1.3270,  0.1559,  0.9730, -0.5883, -0.6467,\n",
       "           -0.7385,  0.8889,  1.8998, -0.0605,  0.6030, -0.9166, -0.1382,\n",
       "            1.1998,  0.8115],\n",
       "          [ 0.5828, -1.9529, -1.1384,  0.2613, -0.2190, -0.4660, -0.5123,\n",
       "           -0.6164, -0.2190,  2.0971,  0.0822,  0.7635, -0.7988, -0.2190,\n",
       "            1.3773,  0.9779],\n",
       "          [-0.7073, -0.9424,  0.3553, -0.3075, -2.0680,  1.6475,  0.6107,\n",
       "            0.1167, -0.8829,  0.8500,  0.3981, -1.2519, -0.1275,  0.9867,\n",
       "           -0.0174,  1.3400],\n",
       "          [ 1.4046, -0.4693, -0.0356, -0.1511, -0.3793, -0.8293, -0.9415,\n",
       "           -0.0521, -0.6168,  1.2347,  2.6961, -0.5785,  0.1616, -1.2239,\n",
       "           -0.0586, -0.1609]]], grad_fn=<AddBackward0>))"
      ]
     },
     "execution_count": 16,
     "metadata": {},
     "output_type": "execute_result"
    }
   ],
   "source": [
    "# embedding_size=16\n",
    "layer_norm = LayerNorm(16)\n",
    "norm_x = layer_norm(position_enc_x)\n",
    "position_enc_x, norm_x"
   ]
  },
  {
   "cell_type": "markdown",
   "id": "bfcba998",
   "metadata": {},
   "source": [
    "## Attention\n",
    "Attention功能可以描述为将query和一组key-value映射到输出，其中query、key、value和输出都是向量。输出为value的加权和，其中每个value的权重通过query与相应key的计算得到。                                                                         \n",
    "我们将particular attention称之为“缩放的点积Attention”(Scaled Dot-Product Attention\")。其输入为query、key(维度是$d_k$)以及values(维度是$d_v$)。我们计算query和所有key的点积，然后对每个除以 $\\sqrt{d_k}$, 最后用softmax函数获得value的权重。         "
   ]
  },
  {
   "cell_type": "code",
   "execution_count": 17,
   "id": "e3242872",
   "metadata": {},
   "outputs": [],
   "source": [
    "def attention(query, key, value, mask=None, dropout=None):\n",
    "    \"Compute 'Scaled Dot Product Attention'\"\n",
    "    # query,key,value均为[batch_size,sentence_len,embedding_size]\n",
    "    # 首先取query的最后一维的大小，对应词嵌入维度\n",
    "    d_k = query.size(-1)\n",
    "    # 按照注意力公式，将query与key的转置相乘，这里面key是将最后两个维度进行转置，再除以缩放系数得到注意力得分张量scores\n",
    "    # src:scores.shape=[30,8,10,10] tgt:[30,8,9,9]\n",
    "    scores = torch.matmul(query, key.transpose(-2, -1)) / math.sqrt(d_k)\n",
    "\n",
    "    # 接着判断是否使用掩码张量\n",
    "    if mask is not None:\n",
    "        # 使用tensor的masked_fill方法，将掩码张量和scores张量每个位置一一比较，如果掩码张量则对应的scores张量用-1e9这个置来替换\n",
    "        scores = scores.masked_fill(mask == 0, -1e9)\n",
    "\n",
    "    # 对scores的最后一维进行softmax操作，使用F.softmax方法，这样获得最终的注意力张量\n",
    "    p_attn = F.softmax(scores, dim=-1)\n",
    "\n",
    "    # 之后判断是否使用dropout进行随机置0\n",
    "    if dropout is not None:\n",
    "        p_attn = dropout(p_attn)\n",
    "\n",
    "    # 最后，根据公式将p_attn与value张量相乘获得最终的query注意力表示，同时返回注意力张量\n",
    "    return torch.matmul(p_attn, value), p_attn"
   ]
  },
  {
   "cell_type": "code",
   "execution_count": 18,
   "id": "a66c648f",
   "metadata": {},
   "outputs": [
    {
     "data": {
      "text/plain": [
       "torch.Size([1, 5, 16])"
      ]
     },
     "execution_count": 18,
     "metadata": {},
     "output_type": "execute_result"
    }
   ],
   "source": [
    "position_enc_x.shape"
   ]
  },
  {
   "cell_type": "code",
   "execution_count": 19,
   "id": "313a8729",
   "metadata": {},
   "outputs": [
    {
     "data": {
      "text/plain": [
       "(torch.Size([1, 5, 16]), torch.Size([1, 5, 5]))"
      ]
     },
     "execution_count": 19,
     "metadata": {},
     "output_type": "execute_result"
    }
   ],
   "source": [
    "# query的最后一维的大小为embedding_size,理论上q,k,v通过input_x线性转换后得来的.\n",
    "query, key, value = [torch.randn((1, 5, 16)) for i in range(3)]\n",
    "output_x = attention(query,key,value)\n",
    "output_x[0].shape,output_x[1].shape\n",
    "# p_attn\n",
    "# [[a11,a12,a13,a14,a15],\n",
    "#  [a21,a22,a23,a24,a25],\n",
    "#  [a31,a32,a33,a34,a35],\n",
    "#  [a41,a42,a43,a44,a45],\n",
    "#  [a51,a52,a53,a54,a55]]\n",
    "# 其中a(i,j)表示第i个单词对第j个单词的注意力程度."
   ]
  },
  {
   "cell_type": "markdown",
   "id": "ed43dd4e",
   "metadata": {},
   "source": [
    "## 多头注意力机制\n",
    "\n",
    "Transformer 的论文通过增加多头注意力机制（一组注意力称为一个 attention head），进一步完善了Self-Attention。这种机制从如下两个方面增强了attention层的能力：\n",
    "\n",
    "- **它扩展了模型关注不同位置的能力**。在上面的例子中，第一个位置的输出 $z_1$ 包含了句子中其他每个位置的很小一部分信息，但$z_1$​仅仅是单个向量，所以可能仅由第1个位置的信息主导了。而当我们翻译句子：`The animal didn’t cross the street because it was too tired`时，我们不仅希望模型关注到\"it\"本身，还希望模型关注到\"The\"和\"animal\"，甚至关注到\"tired\"。这时，多头注意力机制会有帮助。\n",
    "- **多头注意力机制赋予attention层多个“子表示空间”**。下面我们会看到，多头注意力机制会有多组 $W^Q, W^K W^V$ 的权重矩阵（在 Transformer 的论文中，使用了 8 组注意力),，因此可以将 $X$ 变换到更多种子空间进行表示。接下来我们也使用8组注意力头（attention heads））。每一组注意力的权重矩阵都是随机初始化的，但经过训练之后，每一组注意力的权重 $W^Q, W^K W^V$ 可以把输入的向量映射到一个对应的\"子表示空间\"。"
   ]
  },
  {
   "cell_type": "code",
   "execution_count": 20,
   "id": "36078435",
   "metadata": {},
   "outputs": [
    {
     "name": "stdout",
     "output_type": "stream",
     "text": [
      "torch.Size([64, 12, 300])\n"
     ]
    }
   ],
   "source": [
    "class MultiheadAttention(nn.Module):\n",
    "    # n_heads：多头注意力的数量\n",
    "    # hid_dim：每个词输出的向量维度\n",
    "    def __init__(self, hid_dim, n_heads, dropout):\n",
    "        super(MultiheadAttention, self).__init__()\n",
    "        self.hid_dim = hid_dim\n",
    "        self.n_heads = n_heads\n",
    "\n",
    "        # 强制 hid_dim 必须整除 h\n",
    "        assert hid_dim % n_heads == 0\n",
    "        # 定义 W_q 矩阵\n",
    "        self.w_q = nn.Linear(hid_dim, hid_dim)\n",
    "        # 定义 W_k 矩阵\n",
    "        self.w_k = nn.Linear(hid_dim, hid_dim)\n",
    "        # 定义 W_v 矩阵\n",
    "        self.w_v = nn.Linear(hid_dim, hid_dim)\n",
    "        \n",
    "        self.fc = nn.Linear(hid_dim, hid_dim)\n",
    "        self.do = nn.Dropout(dropout)\n",
    "        # 缩放\n",
    "        self.scale = torch.sqrt(torch.FloatTensor([hid_dim // n_heads]))\n",
    "\n",
    "    def forward(self, query, key, value, mask=None):\n",
    "        # 注意 Q，K，V的在句子长度这一个维度的数值可以一样，可以不一样。\n",
    "        # K: [64,10,300], 假设batch_size 为 64，有 10 个词，每个词的 Query 向量是 300 维\n",
    "        # V: [64,10,300], 假设batch_size 为 64，有 10 个词，每个词的 Query 向量是 300 维\n",
    "        # Q: [64,12,300], 假设batch_size 为 64，有 12 个词，每个词的 Query 向量是 300 维\n",
    "        bsz = query.shape[0]\n",
    "        Q = self.w_q(query)\n",
    "        K = self.w_k(key)\n",
    "        V = self.w_v(value)\n",
    "        # 这里把 K Q V 矩阵拆分为多组注意力\n",
    "        # 最后一维就是是用 self.hid_dim // self.n_heads 来得到的，表示每组注意力的向量长度, 每个 head 的向量长度是：300/6=50\n",
    "        # 64 表示 batch size，6 表示有 6组注意力，10 表示有 10 词，50 表示每组注意力的词的向量长度\n",
    "        # K: [64,10,300] 拆分多组注意力 -> [64,10,6,50] 转置得到 -> [64,6,10,50]\n",
    "        # V: [64,10,300] 拆分多组注意力 -> [64,10,6,50] 转置得到 -> [64,6,10,50]\n",
    "        # Q: [64,12,300] 拆分多组注意力 -> [64,12,6,50] 转置得到 -> [64,6,12,50]\n",
    "        # 转置是为了把注意力的数量 6 放到前面，把 10 和 50 放到后面，方便下面计算\n",
    "        Q = Q.view(bsz, -1, self.n_heads, self.hid_dim //\n",
    "                   self.n_heads).permute(0, 2, 1, 3)\n",
    "        K = K.view(bsz, -1, self.n_heads, self.hid_dim //\n",
    "                   self.n_heads).permute(0, 2, 1, 3)\n",
    "        V = V.view(bsz, -1, self.n_heads, self.hid_dim //\n",
    "                   self.n_heads).permute(0, 2, 1, 3)\n",
    "\n",
    "        # 第 1 步：Q 乘以 K的转置，除以scale\n",
    "        # [64,6,12,50] * [64,6,50,10] = [64,6,12,10]\n",
    "        # attention：[64,6,12,10]\n",
    "        attention = torch.matmul(Q, K.permute(0, 1, 3, 2)) / self.scale\n",
    "\n",
    "        # 如果 mask 不为空，那么就把 mask 为 0 的位置的 attention 分数设置为 -1e10，这里用“0”来指示哪些位置的词向量不能被attention到，比如padding位置，当然也可以用“1”或者其他数字来指示，主要设计下面2行代码的改动。\n",
    "        if mask is not None:\n",
    "            attention = attention.masked_fill(mask == 0, -1e10)\n",
    "\n",
    "        # 第 2 步：计算上一步结果的 softmax，再经过 dropout，得到 attention。\n",
    "        # 注意，这里是对最后一维做 softmax，也就是在输入序列的维度做 softmax\n",
    "        # attention: [64,6,12,10]\n",
    "        attention = self.do(torch.softmax(attention, dim=-1))\n",
    "\n",
    "        # 第三步，attention结果与V相乘，得到多头注意力的结果\n",
    "        # [64,6,12,10] * [64,6,10,50] = [64,6,12,50]\n",
    "        # x: [64,6,12,50]\n",
    "        x = torch.matmul(attention, V)\n",
    "\n",
    "        # 因为 query 有 12 个词，所以把 12 放到前面，把 50 和 6 放到后面，方便下面拼接多组的结果\n",
    "        # x: [64,6,12,50] 转置-> [64,12,6,50]\n",
    "        x = x.permute(0, 2, 1, 3).contiguous()\n",
    "        # 这里的矩阵转换就是：把多组注意力的结果拼接起来\n",
    "        # 最终结果就是 [64,12,300]\n",
    "        # x: [64,12,6,50] -> [64,12,300]\n",
    "        x = x.view(bsz, -1, self.n_heads * (self.hid_dim // self.n_heads))\n",
    "        x = self.fc(x)\n",
    "        return x\n",
    "\n",
    "\n",
    "# batch_size 为 64，有 12 个词，每个词的 Query 向量是 300 维\n",
    "query = torch.rand(64, 12, 300)\n",
    "# batch_size 为 64，有 12 个词，每个词的 Key 向量是 300 维\n",
    "key = torch.rand(64, 12, 300)\n",
    "# batch_size 为 64，有 12 个词，每个词的 Value 向量是 300 维\n",
    "value = torch.rand(64, 12, 300)\n",
    "attention_fn = MultiheadAttention(hid_dim=300, n_heads=6, dropout=0.1)\n",
    "output = attention_fn(query, key, value)\n",
    "## output: torch.Size([64, 12, 300])\n",
    "print(output.shape)"
   ]
  },
  {
   "cell_type": "markdown",
   "id": "e121fc2e",
   "metadata": {},
   "source": [
    "### 简化代码"
   ]
  },
  {
   "cell_type": "code",
   "execution_count": 21,
   "id": "558fad5a",
   "metadata": {},
   "outputs": [],
   "source": [
    "# 定义一个clones函数，来更方便的将某个结构复制若干份\n",
    "def clones(module, N):\n",
    "    \"Produce N identical layers.\"\n",
    "    return nn.ModuleList([copy.deepcopy(module) for _ in range(N)])"
   ]
  },
  {
   "cell_type": "code",
   "execution_count": 22,
   "id": "7df55e18",
   "metadata": {},
   "outputs": [],
   "source": [
    "class MultiHeadedAttention(nn.Module):\n",
    "    def __init__(self, h, d_model, dropout=0.1):\n",
    "        # 在类的初始化时，会传入三个参数，h代表头数，d_model代表词嵌入的维度，dropout代表进行dropout操作时置0比率，默认是0.1\n",
    "        super(MultiHeadedAttention, self).__init__()\n",
    "        # 在函数中，首先使用了一个测试中常用的assert语句，判断h是否能被d_model整除，这是因为我们之后要给每个头分配等量的词特征，也就是embedding_dim/head个\n",
    "        assert d_model % h == 0\n",
    "        # 得到每个头获得的分割词向量维度d_k\n",
    "        self.d_k = d_model // h\n",
    "        # 传入头数h\n",
    "        self.h = h\n",
    "\n",
    "        # 创建linear层，通过nn的Linear实例化，它的内部变换矩阵是embedding_dim x embedding_dim，然后使用，为什么是四个呢，这是因为在多头注意力中，Q,K,V各需要一个，最后拼接的矩阵还需要一个，因此一共是四个\n",
    "        self.linears = clones(nn.Linear(d_model, d_model), 4)\n",
    "        # self.attn为None，它代表最后得到的注意力张量，现在还没有结果所以为None\n",
    "        self.attn = None\n",
    "        self.dropout = nn.Dropout(p=dropout)\n",
    "\n",
    "    def forward(self, query, key, value, mask=None):\n",
    "        # 前向逻辑函数，它输入参数有四个，前三个就是注意力机制需要的Q,K,V，最后一个是注意力机制中可能需要的mask掩码张量，默认是None\n",
    "        if mask is not None:\n",
    "            # Same mask applied to all h heads.\n",
    "            # 使用unsqueeze扩展维度，代表多头中的第n头\n",
    "            mask = mask.unsqueeze(1)\n",
    "        # 接着，我们获得一个batch_size的变量，他是query尺寸的第1个数字，代表有多少条样本\n",
    "        nbatches = query.size(0)\n",
    "\n",
    "        # 1) Do all the linear projections in batch from d_model => h x d_k\n",
    "        # 首先利用zip将输入QKV与三个线性层组到一起，然后利用for循环，将输入QKV分别传到线性层中，做完线性变换后，开始为每个头分割输入，这里使用view方法对线性变换的结构进行维度重塑，多加了一个维度h代表头，这样就意味着每个头可以获得一部分词特征组成的句子，其中的-1代表自适应维度，计算机会根据这种变换自动计算这里的值，然后对第二维和第三维进行转置操作，为了让代表句子长度维度和词向量维度能够相邻，这样注意力机制才能找到词义与句子位置的关系，从attention函数中可以看到，利用的是原始输入的倒数第一和第二维，这样我们就得到了每个头的输入\n",
    "        # src:query.shape=[30,10,512] tgt:query.shape=[30,9,512]\n",
    "        query, key, value = \\\n",
    "            [l(x).view(nbatches, -1, self.h, self.d_k).transpose(1, 2)\n",
    "             for l, x in zip(self.linears, (query, key, value))]\n",
    "\n",
    "        # 2) Apply attention on all the projected vectors in batch.\n",
    "        # 得到每个头的输入后，接下来就是将他们传入到attention中，这里直接调用我们之前实现的attention函数，同时也将mask和dropout传入其中\n",
    "        # src:query.shape=[30,8,10,64] tgt:query.shape=[30,8,9,64]\n",
    "        # 8*64 = 512\n",
    "        x, self.attn = attention(\n",
    "            query, key, value, mask=mask, dropout=self.dropout)\n",
    "\n",
    "        # 3) \"Concat\" using a view and apply a final linear.\n",
    "        # 通过多头注意力计算后，我们就得到了每个头计算结果组成的4维张量，我们需要将其转换为输入的形状以方便后续的计算，因此这里开始进行第一步处理环节的逆操作，先对第二和第三维进行转置，然后使用contiguous方法。这个方法的作用就是能够让转置后的张量应用view方法，否则将无法直接使用，所以，下一步就是使用view重塑形状，变成和输入形状相同。\n",
    "        x = x.transpose(1, 2).contiguous() \\\n",
    "             .view(nbatches, -1, self.h * self.d_k)\n",
    "        # 最后使用线性层列表中的最后一个线性变换得到最终的多头注意力结构的输出\n",
    "        # src:return.shape=[30,10,512] tgt:return.shape=[30,9,512]\n",
    "        return self.linears[-1](x)"
   ]
  },
  {
   "cell_type": "markdown",
   "id": "dcd344ad",
   "metadata": {},
   "source": [
    " ## 前馈全连接层\n",
    "除了attention子层之外，我们的编码器和解码器中的每个层都包含一个全连接的前馈网络，该网络在每个层的位置相同（都在每个encoder-layer或者decoder-layer的最后）。该前馈网络包括两个线性变换，并在两个线性变换中间有一个ReLU激活函数。\n",
    "\n",
    "$$\\mathrm{FFN}(x)=\\max(0, xW_1 + b_1) W_2 + b_2$$                                                                        \n",
    "\n",
    "尽管两层都是线性变换，但它们在层与层之间使用不同的参数。另一种描述方式是两个内核大小为1的卷积。 输入和输出的维度都是 $d_{\\text{model}}=512$, 内层维度是$d_{ff}=2048$。（也就是第一层输入512维,输出2048维；第二层输入2048维，输出512维）"
   ]
  },
  {
   "cell_type": "code",
   "execution_count": 23,
   "id": "cbdf4d0f",
   "metadata": {},
   "outputs": [],
   "source": [
    "class PositionwiseFeedForward(nn.Module):\n",
    "    def __init__(self, d_model, d_ff, dropout=0.1):\n",
    "        #初始化函数有三个输入参数分别是d_model，d_ff，和dropout=0.1，第一个是线性层的输入维度也是第二个线性层的输出维度，因为我们希望输入通过前馈全连接层后输入和输出的维度不变，第二个参数d_ff就是第二个线性层的输入维度和第一个线性层的输出，最后一个是dropout置0比率。\n",
    "        super(PositionwiseFeedForward, self).__init__()\n",
    "        self.w_1 = nn.Linear(d_model, d_ff)\n",
    "        self.w_2 = nn.Linear(d_ff, d_model)\n",
    "        self.dropout = nn.Dropout(dropout)\n",
    "\n",
    "    def forward(self, x):\n",
    "        #输入参数为x，代表来自上一层的输出，首先经过第一个线性层，然后使用F中的relu函数进行激活，之后再使用dropout进行随机置0，最后通过第二个线性层w2，返回最终结果\n",
    "        return self.w_2(self.dropout(F.relu(self.w_1(x))))"
   ]
  },
  {
   "cell_type": "markdown",
   "id": "92a4cf4d",
   "metadata": {},
   "source": [
    "## Encoder\n",
    "编码器由N = 6个完全相同的层组成。\n",
    "编码器的每层encoder包含Self Attention 子层和FFN子层，每个子层都使用了残差连接[(cite)](https://arxiv.org/abs/1512.03385)，和层标准化（layer-normalization） [(cite)](https://arxiv.org/abs/1607.06450)。\n",
    "\n",
    "我们称呼子层为：$\\mathrm{Sublayer}(x)$，每个子层的最终输出是$\\mathrm{LayerNorm}(x + \\mathrm{Sublayer}(x))$。 dropout [(cite)](http://jmlr.org/papers/v15/srivastava14a.html)被加在Sublayer上。\n",
    "\n",
    "为了便于进行残差连接，模型中的所有子层以及embedding层产生的输出的维度都为 $d_{\\text{model}}=512$。"
   ]
  },
  {
   "cell_type": "code",
   "execution_count": 24,
   "id": "456324cc",
   "metadata": {},
   "outputs": [],
   "source": [
    "# 定义一个clones函数，来更方便的将某个结构复制若干份\n",
    "def clones(module, N):\n",
    "    \"Produce N identical layers.\"\n",
    "    return nn.ModuleList([copy.deepcopy(module) for _ in range(N)])\n",
    "\n",
    "\n",
    "class Encoder(nn.Module):\n",
    "    \"\"\"\n",
    "    Encoder\n",
    "    The encoder is composed of a stack of N=6 identical layers.\n",
    "    \"\"\"\n",
    "\n",
    "    def __init__(self, layer, N):\n",
    "        super(Encoder, self).__init__()\n",
    "        # 调用时会将编码器层传进来，我们简单克隆N分，叠加在一起，组成完整的Encoder\n",
    "        self.layers = clones(layer, N)\n",
    "        self.norm = LayerNorm(layer.size)\n",
    "\n",
    "    def forward(self, x, mask):\n",
    "        \"Pass the input (and mask) through each layer in turn.\"\n",
    "        for layer in self.layers:\n",
    "            x = layer(x, mask)\n",
    "        return self.norm(x)"
   ]
  },
  {
   "cell_type": "markdown",
   "id": "4978cf74",
   "metadata": {},
   "source": [
    "第一个子层包括一个**多头自注意力层**和**规范化层**以及一个**残差连接**\n",
    "\n",
    "第二个子层包括一个**前馈全连接层**和**规范化层**以及一个**残差连接**\n",
    "\n",
    "可以看到，两个子层的结构其实是一致的，只是中间核心层的实现不同.\n",
    "\n",
    "![image-20211014164210704](https://gitee.com/shenhao-stu/picgo/raw/master/Others/image-20211014164210704.png)\n",
    "\n",
    "下面的**SublayerConnection**类用来处理单个Sublayer的输出，该输出将继续被输入下一个Sublayer："
   ]
  },
  {
   "cell_type": "code",
   "execution_count": 25,
   "id": "bdcf110d",
   "metadata": {},
   "outputs": [],
   "source": [
    "class SublayerConnection(nn.Module):\n",
    "    \"\"\" \n",
    "    实现子层连接结构的类\n",
    "    \"\"\"\n",
    "\n",
    "    def __init__(self, size, dropout):\n",
    "        super(SublayerConnection, self).__init__()\n",
    "        self.norm = LayerNorm(size)\n",
    "        self.dropout = nn.Dropout(dropout)\n",
    "\n",
    "    def forward(self, x, sublayer):\n",
    "\n",
    "        # 原paper的方案\n",
    "        #sublayer_out = sublayer(x)\n",
    "        #x_norm = self.norm(x + self.dropout(sublayer_out))\n",
    "\n",
    "        # 稍加调整的版本\n",
    "        sublayer_out = sublayer(x)\n",
    "        sublayer_out = self.dropout(sublayer_out)\n",
    "        x_norm = x + self.norm(sublayer_out)\n",
    "        return x_norm"
   ]
  },
  {
   "cell_type": "markdown",
   "id": "ea26bf10",
   "metadata": {},
   "source": [
    "注：上面的实现中，我对残差的链接方案进行了小小的调整，和原论文有所不同。把x从norm中拿出来，保证永远有一条“高速公路”，这样理论上会收敛的快一些，但我无法确保这样做一定是对的，请一定注意。"
   ]
  },
  {
   "cell_type": "markdown",
   "id": "04340eed",
   "metadata": {},
   "source": [
    "定义好了SubLayerConnection，我们就可以实现EncoderLayer的结构了"
   ]
  },
  {
   "cell_type": "code",
   "execution_count": 26,
   "id": "aef53a0e",
   "metadata": {},
   "outputs": [],
   "source": [
    "class EncoderLayer(nn.Module):\n",
    "    \"EncoderLayer is made up of two sublayer: self-attn and feed forward\"\n",
    "\n",
    "    def __init__(self, size, self_attn, feed_forward, dropout):\n",
    "        super(EncoderLayer, self).__init__()\n",
    "        self.self_attn = self_attn\n",
    "        self.feed_forward = feed_forward\n",
    "        self.sublayer = clones(SublayerConnection(size, dropout), 2)\n",
    "        self.size = size   # embedding's dimention of model, 默认512\n",
    "\n",
    "    def forward(self, x, mask):\n",
    "        # attention sub layer,let self.self_attn use one arg by using lambda\n",
    "        x = self.sublayer[0](x, lambda x: self.self_attn(x, x, x, mask))\n",
    "        # feed forward sub layer\n",
    "        z = self.sublayer[1](x, self.feed_forward)\n",
    "        return z"
   ]
  },
  {
   "cell_type": "markdown",
   "id": "7607b20a",
   "metadata": {},
   "source": [
    "## Decoder\n",
    "\n",
    "解码器也是由N = 6 个完全相同的decoder层组成。"
   ]
  },
  {
   "cell_type": "markdown",
   "id": "71378e44",
   "metadata": {},
   "source": [
    "### 1. 解码器整体结构\n",
    "解码器的作用：根据编码器的结果以及上一次预测的结果，输出序列的下一个结果。\n",
    "\n",
    "整体结构上，解码器也是由N个相同层堆叠而成。构造代码如下："
   ]
  },
  {
   "cell_type": "code",
   "execution_count": 27,
   "id": "848e558b",
   "metadata": {},
   "outputs": [],
   "source": [
    "# 使用类Decoder来实现解码器\n",
    "class Decoder(nn.Module):\n",
    "    \"Generic N layer decoder with masking.\"\n",
    "\n",
    "    def __init__(self, layer, N):\n",
    "        # 初始化函数的参数有两个，第一个就是解码器层layer，第二个是解码器层的个数N\n",
    "        super(Decoder, self).__init__()\n",
    "        # 首先使用clones方法克隆了N个layer，然后实例化一个规范化层，因为数据走过了所有的解码器层后最后要做规范化处理。\n",
    "        self.layers = clones(layer, N)\n",
    "        self.norm = LayerNorm(layer.size)\n",
    "\n",
    "    def forward(self, x, memory, src_mask, tgt_mask):\n",
    "        # forward函数中的参数有4个，x代表目标数据的嵌入表示，memory是编码器层的输出，source_mask，target_mask代表源数据和目标数据的掩码张量，然后就是对每个层进行循环，当然这个循环就是变量x通过每一个层的处理，得出最后的结果，再进行一次规范化返回即可。\n",
    "        for layer in self.layers:\n",
    "            x = layer(x, memory, src_mask, tgt_mask)\n",
    "        return self.norm(x)"
   ]
  },
  {
   "cell_type": "markdown",
   "id": "8d3bd249",
   "metadata": {},
   "source": [
    "### 2. 解码器层\n",
    "每个解码器层由三个子层连接结构组成\n",
    "- 第一个子层连接结构包括一个**多头自注意力子层**和规范化层以及一个残差连接\n",
    "- 第二个子层连接结构包括一个**多头注意力子层**和规范化层以及一个残差连接\n",
    "- 第三个子层连接结构包括一个**前馈全连接子层**和规范化层以及一个残差连接。\n",
    "![image-20211014165218933](https://gitee.com/shenhao-stu/picgo/raw/master/Others/image-20211014165218933.png)"
   ]
  },
  {
   "cell_type": "markdown",
   "id": "0f57788d",
   "metadata": {},
   "source": [
    "有一个细节需要注意，第一个子层的多头注意力和编码器中完全一致，第二个子层，它的**多头注意力模块**中，**query来自上一个子层，key 和 value 来自编码器的输出**。可以这样理解，就是第二层负责，利用解码器已经预测出的信息作为query，去编码器提取的各种特征中，查找相关信息并融合到当前特征中，来完成预测。"
   ]
  },
  {
   "cell_type": "code",
   "execution_count": 28,
   "id": "232c5233",
   "metadata": {},
   "outputs": [],
   "source": [
    "# 使用DecoderLayer的类实现解码器层\n",
    "class DecoderLayer(nn.Module):\n",
    "    \"Decoder is made of self-attn, src-attn, and feed forward (defined below)\"\n",
    "\n",
    "    def __init__(self, size, self_attn, src_attn, feed_forward, dropout):\n",
    "        # 初始化函数的参数有5个，分别是size，代表词嵌入的维度大小，同时也代表解码器的尺寸，第二个是self_attn，多头自注意力对象，也就是说这个注意力机制需要Q=K=V，第三个是src_attn,多头注意力对象，这里Q!=K=V，第四个是前馈全连接层对象，最后就是dropout置0比率\n",
    "        super(DecoderLayer, self).__init__()\n",
    "        self.size = size\n",
    "        self.self_attn = self_attn\n",
    "        self.src_attn = src_attn\n",
    "        self.feed_forward = feed_forward\n",
    "        # 按照结构图使用clones函数克隆三个子层连接对象\n",
    "        self.sublayer = clones(SublayerConnection(size, dropout), 3)\n",
    "\n",
    "    def forward(self, x, memory, src_mask, tgt_mask):\n",
    "        # forward函数中的参数有4个，分别是来自上一层的输入x，来自编码器层的语义存储变量memory，以及源数据掩码张量和目标数据掩码张量，将memory表示成m之后方便使用。\n",
    "        m = memory\n",
    "        # 将x传入第一个子层结构，第一个子层结构的输入分别是x和self-attn函数，因为是自注意力机制，所以Q,K,V都是x，最后一个参数时目标数据掩码张量，这时要对目标数据进行遮掩，因为此时模型可能还没有生成任何目标数据。\n",
    "        # 比如在解码器准备生成第一个字符或词汇时，我们其实已经传入了第一个字符以便计算损失，但是我们不希望在生成第一个字符时模型能利用这个信息，因此我们会将其遮掩，同样生成第二个字符或词汇时，模型只能使用第一个字符或词汇信息，第二个字符以及之后的信息都不允许被模型使用。\n",
    "        x = self.sublayer[0](x, lambda x: self.self_attn(x, x, x, tgt_mask))\n",
    "        # 接着进入第二个子层，这个子层中常规的注意力机制，q是输入x;k,v是编码层输出memory，同样也传入source_mask，但是进行源数据遮掩的原因并非是抑制信息泄露，而是遮蔽掉对结果没有意义的padding。\n",
    "        x = self.sublayer[1](x, lambda x: self.src_attn(x, m, m, src_mask))\n",
    "\n",
    "        # 最后一个子层就是前馈全连接子层，经过它的处理后就可以返回结果，这就是我们的解码器结构\n",
    "        return self.sublayer[2](x, self.feed_forward)"
   ]
  },
  {
   "cell_type": "markdown",
   "id": "73a1f8ad",
   "metadata": {},
   "source": [
    "## 模型输出\n",
    "\n",
    "输出部分就很简单了，每个时间步都过一个 线性层 + softmax层\n",
    "\n",
    "线性层的作用：通过对上一步的线性变化得到指定维度的输出，也就是转换维度的作用。转换后的维度对应着输出类别的个数，如果是翻译任务，那就对应的是文字字典的大小。"
   ]
  },
  {
   "cell_type": "code",
   "execution_count": 29,
   "id": "c473170b",
   "metadata": {},
   "outputs": [],
   "source": [
    "# 将线性层和softmax计算层一起实现，因为二者的共同目标是生成最后的结构\n",
    "# 因此把类的名字叫做Generator，生成器类\n",
    "class Generator(nn.Module):\n",
    "    \"Define standard linear + softmax generation step.\"\n",
    "\n",
    "    def __init__(self, d_model, vocab):\n",
    "        # 初始化函数的输入参数有两个，d_model代表词嵌入维度，vocab.size代表词表大小\n",
    "        super(Generator, self).__init__()\n",
    "        # 首先就是使用nn中的预定义线性层进行实例化，得到一个对象self.proj等待使用\n",
    "        # 这个线性层的参数有两个，就是初始化函数传进来的两个参数：d_model，vocab_size\n",
    "        self.proj = nn.Linear(d_model, vocab)\n",
    "\n",
    "    def forward(self, x):\n",
    "        # 前向逻辑函数中输入是上一层的输出张量x,在函数中，首先使用上一步得到的self.proj对x进行线性变化,然后使用F中已经实现的log_softmax进行softmax处理。\n",
    "        return F.log_softmax(self.proj(x), dim=-1)"
   ]
  },
  {
   "cell_type": "markdown",
   "id": "8c04d907",
   "metadata": {},
   "source": [
    "## 模型构建"
   ]
  },
  {
   "cell_type": "code",
   "execution_count": 30,
   "id": "46e40095",
   "metadata": {},
   "outputs": [],
   "source": [
    "# Model Architecture\n",
    "# 使用EncoderDecoder类来实现编码器-解码器结构\n",
    "class EncoderDecoder(nn.Module):\n",
    "    \"\"\"\n",
    "    A standard Encoder-Decoder architecture. \n",
    "    Base for this and many other models.\n",
    "    \"\"\"\n",
    "\n",
    "    def __init__(self, encoder, decoder, src_embed, tgt_embed, generator):\n",
    "        # 初始化函数中有5个参数，分别是编码器对象，解码器对象,源数据嵌入函数，目标数据嵌入函数，以及输出部分的类别生成器对象.\n",
    "        super(EncoderDecoder, self).__init__()\n",
    "        self.encoder = encoder\n",
    "        self.decoder = decoder\n",
    "        # input embedding module(input embedding + positional encode)\n",
    "        self.src_embed = src_embed\n",
    "        self.tgt_embed = tgt_embed    # ouput embedding module\n",
    "        self.generator = generator    # output generation module\n",
    "\n",
    "    def forward(self, src, tgt, src_mask, tgt_mask):\n",
    "        \"Take in and process masked src and target sequences.\"\n",
    "        # 在forward函数中，有四个参数，source代表源数据，target代表目标数据,source_mask和target_mask代表对应的掩码张量,在函数中，将source source_mask传入编码函数，得到结果后与source_mask target 和target_mask一同传给解码函数\n",
    "        memory = self.encode(src, src_mask)\n",
    "        res = self.decode(memory, src_mask, tgt, tgt_mask)\n",
    "        return res\n",
    "\n",
    "    def encode(self, src, src_mask):\n",
    "        # 编码函数，以source和source_mask为参数,使用src_embed对source做处理，然后和source_mask一起传给self.encoder\n",
    "        src_embedds = self.src_embed(src)  # src_embedds.shape=[30,10,512]\n",
    "        return self.encoder(src_embedds, src_mask)  # src_mask.shape=[30,1,10]\n",
    "\n",
    "    def decode(self, memory, src_mask, tgt, tgt_mask):\n",
    "        # 解码函数，以memory即编码器的输出，source_mask target target_mask为参数,使用tgt_embed对target做处理，然后和source_mask,target_mask,memory一起传给self.decoder\n",
    "        target_embedds = self.tgt_embed(tgt)\n",
    "        return self.decoder(target_embedds, memory, src_mask, tgt_mask)\n",
    "\n",
    "\n",
    "# Full Model\n",
    "def make_model(src_vocab, tgt_vocab, N=6, d_model=512, d_ff=2048, h=8, dropout=0.1):\n",
    "    \"\"\"\n",
    "    构建模型\n",
    "    params:\n",
    "        src_vocab:\n",
    "        tgt_vocab:\n",
    "        N: 编码器和解码器堆叠基础模块的个数\n",
    "        d_model: 模型中embedding的size，默认512\n",
    "        d_ff: FeedForward Layer层中embedding的size，默认2048\n",
    "        h: MultiHeadAttention中多头的个数，必须被d_model整除\n",
    "        dropout:\n",
    "    \"\"\"\n",
    "    c = copy.deepcopy\n",
    "    attn = MultiHeadedAttention(h, d_model, dropout)\n",
    "    ff = PositionwiseFeedForward(d_model, d_ff, dropout)\n",
    "    position = PositionalEncoding(d_model, dropout)\n",
    "    model = EncoderDecoder(\n",
    "        Encoder(EncoderLayer(d_model, c(attn), c(ff), dropout), N),\n",
    "        Decoder(DecoderLayer(d_model, c(attn), c(attn), c(ff), dropout), N),\n",
    "        nn.Sequential(Embeddings(d_model, src_vocab), c(position)),\n",
    "        nn.Sequential(Embeddings(d_model, tgt_vocab), c(position)),\n",
    "        Generator(d_model, tgt_vocab))\n",
    "\n",
    "    # This was important from their code.\n",
    "    # Initialize parameters with Glorot / fan_avg.\n",
    "    for p in model.parameters():\n",
    "        if p.dim() > 1:\n",
    "            nn.init.xavier_uniform_(p)\n",
    "    return model"
   ]
  },
  {
   "cell_type": "markdown",
   "id": "f1ccb5c9",
   "metadata": {},
   "source": [
    "## 实战案例\n",
    "\n",
    "下面我们用一个人造的玩具级的小任务，来实战体验下Transformer的训练，加深我们的理解，并且验证我们上面所述代码是否work。\n",
    "\n",
    "任务描述：针对数字序列进行学习，学习的最终目标是使模型学会输出与输入的序列删除第一个字符之后的相同的序列，如输入[1,2,3,4,5]，我们尝试让模型学会输出[2,3,4,5]。\n",
    "\n",
    "显然这对模型来说并不难，应该简单的若干次迭代就能学会。\n",
    "\n",
    "代码实现的基本的步骤是：\n",
    "\n",
    "第一步：构建并生成人工数据集\n",
    "\n",
    "第二步：构建Transformer模型及相关准备工作\n",
    "\n",
    "第三步：运行模型进行训练和评估\n",
    "\n",
    "第四步：使用模型进行贪婪解码\n",
    "\n",
    "训练的大致流程如下："
   ]
  },
  {
   "cell_type": "markdown",
   "id": "f5439adc",
   "metadata": {},
   "source": [
    "### 批处理和掩码"
   ]
  },
  {
   "cell_type": "code",
   "execution_count": 31,
   "id": "f149775b",
   "metadata": {},
   "outputs": [],
   "source": [
    "class Batch:\n",
    "    \"Object for holding a batch of data with mask during training.\"\n",
    "\n",
    "    def __init__(self, src, trg=None, pad=0):\n",
    "        # src,trg [30,10]\n",
    "        self.src = src\n",
    "        # src_mask.shape=[30,1,10]\n",
    "        self.src_mask = (src != pad).unsqueeze(-2)\n",
    "        if trg is not None:\n",
    "            self.trg = trg[:, :-1]  # [30,9]\n",
    "            self.trg_y = trg[:, 1:]  # [30,9]\n",
    "            self.trg_mask = \\\n",
    "                self.make_std_mask(self.trg, pad)\n",
    "            self.ntokens = (self.trg_y != pad).data.sum()\n",
    "\n",
    "    @staticmethod\n",
    "    def make_std_mask(tgt, pad):\n",
    "        # tgt.shape [30,9]\n",
    "        \"Create a mask to hide padding and future words.\"\n",
    "        tgt_mask = (tgt != pad).unsqueeze(-2)  # [30,1,9]\n",
    "        tgt_mask = tgt_mask & subsequent_mask(\n",
    "            tgt.size(-1)).type_as(tgt_mask.data)  # subsequent_mask.shape [1,9,9]\n",
    "        # tgt_mask=[30,9,9]\n",
    "        return tgt_mask"
   ]
  },
  {
   "cell_type": "markdown",
   "id": "994c0c7b",
   "metadata": {},
   "source": [
    "### Training Loop"
   ]
  },
  {
   "cell_type": "code",
   "execution_count": 32,
   "id": "7ef22bfb",
   "metadata": {},
   "outputs": [],
   "source": [
    "def run_epoch(data_iter, model, loss_compute):\n",
    "    \"Standard Training and Logging Function\"\n",
    "    start = time.time()\n",
    "    total_tokens = 0\n",
    "    total_loss = 0\n",
    "    tokens = 0\n",
    "    # batch.src.shape=[30,10] batch.trg.shape=[30,9]\n",
    "    for i, batch in enumerate(data_iter):\n",
    "        out = model.forward(batch.src, batch.trg,\n",
    "                            batch.src_mask, batch.trg_mask)\n",
    "        loss = loss_compute(out, batch.trg_y, batch.ntokens)\n",
    "        total_loss += loss\n",
    "        total_tokens += batch.ntokens\n",
    "        tokens += batch.ntokens\n",
    "        if i % 50 == 1:\n",
    "            elapsed = time.time() - start\n",
    "            print(\"Epoch Step: %d Loss: %f Tokens per Sec: %f\" %\n",
    "                  (i, loss / batch.ntokens, tokens / elapsed))\n",
    "            start = time.time()\n",
    "            tokens = 0\n",
    "    return total_loss / total_tokens"
   ]
  },
  {
   "cell_type": "markdown",
   "id": "86c76e5d",
   "metadata": {},
   "source": [
    "### Optimizer\n",
    "我们使用Adam优化器[(cite)](https://arxiv.org/abs/1412.6980)，其中 $\\beta_1=0.9$, $\\beta_2=0.98$并且$\\epsilon=10^{-9}$。我们根据以下公式在训练过程中改变学习率：                                         \n",
    "$$\n",
    "lrate = d_{\\text{model}}^{-0.5} \\cdot                                                                                                                                                                                                                                                                                                \n",
    "  \\min({step\\_num}^{-0.5},                                                                                                                                                                                                                                                                                                  \n",
    "    {step\\_num} \\cdot {warmup\\_steps}^{-1.5})                                                                                                                                                                                                                                                                               \n",
    "$$\n",
    "这对应于在第一次$warmup\\_steps$步中线性地增加学习速率，并且随后将其与步数的平方根成比例地减小。我们使用$warmup\\_steps=4000$。                            "
   ]
  },
  {
   "cell_type": "code",
   "execution_count": 33,
   "id": "089b3ecb",
   "metadata": {},
   "outputs": [],
   "source": [
    "class NoamOpt:\n",
    "    \"Optim wrapper that implements rate.\"\n",
    "\n",
    "    def __init__(self, model_size, factor, warmup, optimizer):\n",
    "        self.optimizer = optimizer\n",
    "        self._step = 0\n",
    "        self.warmup = warmup\n",
    "        self.factor = factor\n",
    "        self.model_size = model_size\n",
    "        self._rate = 0\n",
    "\n",
    "    def step(self):\n",
    "        \"Update parameters and rate\"\n",
    "        self._step += 1\n",
    "        rate = self.rate()\n",
    "        for p in self.optimizer.param_groups:\n",
    "            p['lr'] = rate\n",
    "        self._rate = rate\n",
    "        self.optimizer.step()\n",
    "\n",
    "    def rate(self, step=None):\n",
    "        \"Implement `lrate` above\"\n",
    "        if step is None:\n",
    "            step = self._step\n",
    "        return self.factor * \\\n",
    "            (self.model_size ** (-0.5) *\n",
    "             min(step ** (-0.5), step * self.warmup ** (-1.5)))\n",
    "\n",
    "\n",
    "def get_std_opt(model):\n",
    "    return NoamOpt(model.src_embed[0].d_model, 2, 4000,\n",
    "                   torch.optim.Adam(model.parameters(), lr=0, betas=(0.9, 0.98), eps=1e-9))"
   ]
  },
  {
   "cell_type": "markdown",
   "id": "ba9b8f2d",
   "metadata": {},
   "source": [
    "> 以下是此模型针对不同模型大小和优化超参数的曲线示例。"
   ]
  },
  {
   "cell_type": "code",
   "execution_count": 34,
   "id": "6baef6c2",
   "metadata": {},
   "outputs": [
    {
     "data": {
      "text/plain": [
       "<matplotlib.legend.Legend at 0x272213e0be0>"
      ]
     },
     "execution_count": 34,
     "metadata": {},
     "output_type": "execute_result"
    },
    {
     "data": {
      "image/png": "[encoded data removed]",
      "text/plain": [
       "<Figure size 432x288 with 1 Axes>"
      ]
     },
     "metadata": {
      "needs_background": "light"
     },
     "output_type": "display_data"
    }
   ],
   "source": [
    "# Three settings of the lrate hyperparameters.\n",
    "opts = [NoamOpt(512, 1, 4000, None),\n",
    "        NoamOpt(512, 1, 8000, None),\n",
    "        NoamOpt(256, 1, 4000, None)]\n",
    "plt.plot(np.arange(1, 20000), [[opt.rate(i)\n",
    "                                for opt in opts] for i in range(1, 20000)])\n",
    "plt.legend([\"512:4000\", \"512:8000\", \"256:4000\"])"
   ]
  },
  {
   "cell_type": "markdown",
   "id": "06c41149",
   "metadata": {},
   "source": [
    "### 正则化\n",
    "### 标签平滑\n",
    "\n",
    "在训练过程中，我们使用的label平滑的值为$\\epsilon_{ls}=0.1$ [(cite)](https://arxiv.org/abs/1512.00567)。虽然对label进行平滑会让模型困惑，但提高了准确性和BLEU得分。\n",
    "\n",
    "> 我们使用KL div损失实现标签平滑。我们没有使用one-hot独热分布，而是创建了一个分布，该分布设定目标分布为1-smoothing，将剩余概率分配给词表中的其他单词。"
   ]
  },
  {
   "cell_type": "code",
   "execution_count": 35,
   "id": "1689b63d",
   "metadata": {},
   "outputs": [],
   "source": [
    "class LabelSmoothing(nn.Module):\n",
    "    \"Implement label smoothing.\"\n",
    "\n",
    "    def __init__(self, size, padding_idx, smoothing=0.0):\n",
    "        super(LabelSmoothing, self).__init__()\n",
    "        self.criterion = nn.KLDivLoss(reduction='sum')\n",
    "        self.padding_idx = padding_idx\n",
    "        self.confidence = 1.0 - smoothing\n",
    "        self.smoothing = smoothing\n",
    "        self.size = size\n",
    "        self.true_dist = None\n",
    "\n",
    "    def forward(self, x, target):\n",
    "        assert x.size(1) == self.size\n",
    "        true_dist = x.data.clone()\n",
    "        true_dist.fill_(self.smoothing / (self.size - 2))\n",
    "        true_dist.scatter_(1, target.data.unsqueeze(1), self.confidence)\n",
    "        true_dist[:, self.padding_idx] = 0\n",
    "        mask = torch.nonzero(target.data == self.padding_idx)\n",
    "        if mask.dim() > 0:\n",
    "            true_dist.index_fill_(0, mask.squeeze(), 0.0)\n",
    "        self.true_dist = true_dist\n",
    "        return self.criterion(x, true_dist.requires_grad_(False))"
   ]
  },
  {
   "cell_type": "markdown",
   "id": "b499c467",
   "metadata": {},
   "source": [
    "下面我们看一个例子，看看平滑后的真实概率分布。"
   ]
  },
  {
   "cell_type": "code",
   "execution_count": 36,
   "id": "2703a9a2",
   "metadata": {},
   "outputs": [
    {
     "name": "stderr",
     "output_type": "stream",
     "text": [
      "C:\\Users\\56550\\AppData\\Local\\Temp/ipykernel_30536/410927135.py:19: UserWarning: This overload of nonzero is deprecated:\n",
      "\tnonzero(Tensor input, *, Tensor out)\n",
      "Consider using one of the following signatures instead:\n",
      "\tnonzero(Tensor input, *, bool as_tuple) (Triggered internally at  ..\\torch\\csrc\\utils\\python_arg_parser.cpp:766.)\n",
      "  mask = torch.nonzero(target.data == self.padding_idx)\n"
     ]
    },
    {
     "data": {
      "text/plain": [
       "<matplotlib.image.AxesImage at 0x27222a8aa60>"
      ]
     },
     "execution_count": 36,
     "metadata": {},
     "output_type": "execute_result"
    },
    {
     "data": {
      "image/png": "[encoded data removed]",
      "text/plain": [
       "<Figure size 432x288 with 1 Axes>"
      ]
     },
     "metadata": {
      "needs_background": "light"
     },
     "output_type": "display_data"
    }
   ],
   "source": [
    "# Example of label smoothing.\n",
    "crit = LabelSmoothing(5, 0, 0.4)\n",
    "predict = torch.FloatTensor([[0, 0.2, 0.7, 0.1, 0],\n",
    "                             [0, 0.2, 0.7, 0.1, 0],\n",
    "                             [0, 0.2, 0.7, 0.1, 0]])\n",
    "v = crit(predict.log(),\n",
    "         torch.LongTensor([2, 1, 0]))\n",
    "\n",
    "# Show the target distributions expected by the system.\n",
    "plt.imshow(crit.true_dist)"
   ]
  },
  {
   "cell_type": "code",
   "execution_count": 37,
   "id": "111b18b0",
   "metadata": {},
   "outputs": [
    {
     "name": "stdout",
     "output_type": "stream",
     "text": [
      "tensor([[0.0000, 0.1333, 0.6000, 0.1333, 0.1333],\n",
      "        [0.0000, 0.6000, 0.1333, 0.1333, 0.1333],\n",
      "        [0.0000, 0.0000, 0.0000, 0.0000, 0.0000]])\n"
     ]
    }
   ],
   "source": [
    "print(crit.true_dist)"
   ]
  },
  {
   "cell_type": "markdown",
   "id": "390ca252",
   "metadata": {},
   "source": [
    "由于标签平滑的存在，如果模型对于某个单词特别有信心，输出特别大的概率，会被惩罚。如下代码所示，随着输入x的增大，x/d会越来越大，1/d会越来越小，但是loss并不是一直降低的。"
   ]
  },
  {
   "cell_type": "code",
   "execution_count": 38,
   "id": "21f1002f",
   "metadata": {},
   "outputs": [
    {
     "data": {
      "text/plain": [
       "[<matplotlib.lines.Line2D at 0x27221467490>]"
      ]
     },
     "execution_count": 38,
     "metadata": {},
     "output_type": "execute_result"
    },
    {
     "data": {
      "image/png": "[encoded data removed]",
      "text/plain": [
       "<Figure size 432x288 with 1 Axes>"
      ]
     },
     "metadata": {
      "needs_background": "light"
     },
     "output_type": "display_data"
    }
   ],
   "source": [
    "crit = LabelSmoothing(5, 0, 0.1)\n",
    "\n",
    "\n",
    "def loss(x):\n",
    "    d = x + 3 * 1\n",
    "    predict = torch.FloatTensor([[0, x / d, 1 / d, 1 / d, 1 / d]])\n",
    "    # print(predict)\n",
    "    return crit(predict.log(),\n",
    "                torch.LongTensor([1])).item()\n",
    "\n",
    "\n",
    "y = [loss(x) for x in range(1, 100)]\n",
    "x = np.arange(1, 100)\n",
    "plt.plot(x, y)"
   ]
  },
  {
   "cell_type": "markdown",
   "id": "72e2d9d4",
   "metadata": {},
   "source": [
    "## 实例\n",
    "### 合成数据"
   ]
  },
  {
   "cell_type": "code",
   "execution_count": 39,
   "id": "3f2fc12c",
   "metadata": {},
   "outputs": [],
   "source": [
    "def data_gen(V, batch, nbatches):\n",
    "    \"Generate random data for a src-tgt copy task.\"\n",
    "    for i in range(nbatches):\n",
    "        data = torch.from_numpy(np.random.randint(1, V, size=(batch, 10)))\n",
    "        data[:, 0] = 1\n",
    "        src = data.long().requires_grad_(False)\n",
    "        tgt = data.long().requires_grad_(False)\n",
    "        yield Batch(src, tgt, 0)"
   ]
  },
  {
   "cell_type": "markdown",
   "id": "ab556f75",
   "metadata": {},
   "source": [
    "### 损失函数计算"
   ]
  },
  {
   "cell_type": "code",
   "execution_count": 40,
   "id": "2f8e28b6",
   "metadata": {},
   "outputs": [],
   "source": [
    "class SimpleLossCompute:\n",
    "    \"A simple loss compute and train function.\"\n",
    "\n",
    "    def __init__(self, generator, criterion, opt=None):\n",
    "        self.generator = generator\n",
    "        self.criterion = criterion\n",
    "        self.opt = opt\n",
    "\n",
    "    def __call__(self, x, y, norm):\n",
    "        x = self.generator(x)\n",
    "        loss = self.criterion(x.contiguous().view(-1, x.size(-1)),\n",
    "                              y.contiguous().view(-1)) / norm\n",
    "        loss.backward()\n",
    "        if self.opt is not None:\n",
    "            self.opt.step()\n",
    "            self.opt.optimizer.zero_grad()\n",
    "        return loss.item() * norm"
   ]
  },
  {
   "cell_type": "markdown",
   "id": "e4ecfab8",
   "metadata": {},
   "source": [
    "### 贪婪解码"
   ]
  },
  {
   "cell_type": "code",
   "execution_count": 41,
   "id": "9baac41b",
   "metadata": {},
   "outputs": [
    {
     "name": "stdout",
     "output_type": "stream",
     "text": [
      "Epoch Step: 1 Loss: 3.217873 Tokens per Sec: 413.666809\n",
      "Epoch Step: 1 Loss: 2.044819 Tokens per Sec: 567.102539\n",
      "tensor(2.0707)\n",
      "Epoch Step: 1 Loss: 2.084461 Tokens per Sec: 378.063538\n",
      "Epoch Step: 1 Loss: 1.725667 Tokens per Sec: 655.580994\n",
      "tensor(1.7515)\n",
      "Epoch Step: 1 Loss: 2.133247 Tokens per Sec: 411.176636\n",
      "Epoch Step: 1 Loss: 1.681059 Tokens per Sec: 684.259460\n",
      "tensor(1.6964)\n",
      "Epoch Step: 1 Loss: 1.905264 Tokens per Sec: 442.886932\n",
      "Epoch Step: 1 Loss: 1.337842 Tokens per Sec: 659.193665\n",
      "tensor(1.3322)\n",
      "Epoch Step: 1 Loss: 1.527641 Tokens per Sec: 457.912903\n",
      "Epoch Step: 1 Loss: 1.006559 Tokens per Sec: 614.896240\n",
      "tensor(0.9990)\n",
      "Epoch Step: 1 Loss: 1.470397 Tokens per Sec: 460.250824\n",
      "Epoch Step: 1 Loss: 0.759082 Tokens per Sec: 687.745728\n",
      "tensor(0.7827)\n",
      "Epoch Step: 1 Loss: 1.000888 Tokens per Sec: 470.682098\n",
      "Epoch Step: 1 Loss: 0.634258 Tokens per Sec: 603.893799\n",
      "tensor(0.6654)\n",
      "Epoch Step: 1 Loss: 0.799201 Tokens per Sec: 457.523834\n",
      "Epoch Step: 1 Loss: 0.370392 Tokens per Sec: 654.398865\n",
      "tensor(0.3792)\n",
      "Epoch Step: 1 Loss: 0.777453 Tokens per Sec: 454.825775\n",
      "Epoch Step: 1 Loss: 0.390272 Tokens per Sec: 615.598022\n",
      "tensor(0.3837)\n",
      "Epoch Step: 1 Loss: 0.712812 Tokens per Sec: 454.242004\n",
      "Epoch Step: 1 Loss: 0.302385 Tokens per Sec: 692.153076\n",
      "tensor(0.3265)\n"
     ]
    }
   ],
   "source": [
    "# Train the simple copy task.\n",
    "V = 11\n",
    "criterion = LabelSmoothing(size=V, padding_idx=0, smoothing=0.0)\n",
    "model = make_model(V, V, N=2)\n",
    "model_opt = NoamOpt(model.src_embed[0].d_model, 1, 400,\n",
    "        torch.optim.Adam(model.parameters(), lr=0, betas=(0.9, 0.98), eps=1e-9))\n",
    "\n",
    "for epoch in range(10):\n",
    "    model.train()\n",
    "    run_epoch(data_gen(V, 30, 20), model, \n",
    "              SimpleLossCompute(model.generator, criterion, model_opt))\n",
    "    model.eval()\n",
    "    print(run_epoch(data_gen(V, 30, 5), model, \n",
    "                    SimpleLossCompute(model.generator, criterion, None)))"
   ]
  },
  {
   "cell_type": "code",
   "execution_count": 42,
   "id": "08a674d4",
   "metadata": {},
   "outputs": [
    {
     "name": "stdout",
     "output_type": "stream",
     "text": [
      "tensor([[1, 2, 3, 5, 6, 7, 8, 9, 8, 9]])\n"
     ]
    }
   ],
   "source": [
    "def greedy_decode(model, src, src_mask, max_len, start_symbol):\n",
    "    memory = model.encode(src, src_mask)\n",
    "    ys = torch.ones(1, 1).fill_(start_symbol).type_as(src.data)\n",
    "    for i in range(max_len-1):\n",
    "        out = model.decode(memory, src_mask,\n",
    "                           ys,\n",
    "                           subsequent_mask(ys.size(1)).type_as(src.data))\n",
    "        prob = model.generator(out[:, -1])\n",
    "        _, next_word = torch.max(prob, dim=1)\n",
    "        next_word = next_word.data[0]\n",
    "        ys = torch.cat([ys,\n",
    "                        torch.ones(1, 1).type_as(src.data).fill_(next_word)], dim=1)\n",
    "    return ys\n",
    "\n",
    "\n",
    "model.eval()\n",
    "src = torch.LongTensor([[1, 2, 3, 4, 5, 6, 7, 8, 9, 10]])\n",
    "src_mask = torch.ones(1, 1, 10)\n",
    "print(greedy_decode(model, src, src_mask, max_len=10, start_symbol=1))"
   ]
  }
 ],
 "metadata": {
  "kernelspec": {
   "display_name": "pytorch",
   "language": "python",
   "name": "pytorch"
  },
  "language_info": {
   "codemirror_mode": {
    "name": "ipython",
    "version": 3
   },
   "file_extension": ".py",
   "mimetype": "text/x-python",
   "name": "python",
   "nbconvert_exporter": "python",
   "pygments_lexer": "ipython3",
   "version": "3.8.11"
  },
  "varInspector": {
   "cols": {
    "lenName": 16,
    "lenType": 16,
    "lenVar": 40
   },
   "kernels_config": {
    "python": {
     "delete_cmd_postfix": "",
     "delete_cmd_prefix": "del ",
     "library": "var_list.py",
     "varRefreshCmd": "print(var_dic_list())"
    },
    "r": {
     "delete_cmd_postfix": ") ",
     "delete_cmd_prefix": "rm(",
     "library": "var_list.r",
     "varRefreshCmd": "cat(var_dic_list()) "
    }
   },
   "types_to_exclude": [
    "module",
    "function",
    "builtin_function_or_method",
    "instance",
    "_Feature"
   ],
   "window_display": false
  }
 },
 "nbformat": 4,
 "nbformat_minor": 5
}
